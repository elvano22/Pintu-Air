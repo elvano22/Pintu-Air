{
 "cells": [
  {
   "cell_type": "code",
   "execution_count": null,
   "id": "5d83fa52",
   "metadata": {
    "colab": {
     "base_uri": "https://localhost:8080/"
    },
    "executionInfo": {
     "elapsed": 24424,
     "status": "ok",
     "timestamp": 1749865662344,
     "user": {
      "displayName": "elvano",
      "userId": "10794472318038798566"
     },
     "user_tz": -420
    },
    "id": "5d83fa52",
    "outputId": "53bf65dd-d09f-475f-8298-c9db73fe78cc"
   },
   "outputs": [
    {
     "name": "stdout",
     "output_type": "stream",
     "text": [
      "Mounted at /content/drive\n",
      "/content/drive/MyDrive/Thesis/Pintu-Air\n",
      "total 27492\n",
      "-rw------- 1 root root 5517847 Jun 11 14:58 '01 Result Data Cleaning Part 1.csv'\n",
      "-rw------- 1 root root 2009870 Jun 13 22:15 '02 All Data.csv'\n",
      "-rw------- 1 root root 1964974 Jun 11 14:58 '02 Data Preperation.ipynb'\n",
      "-rw------- 1 root root  256098 Jun 11 14:58 '02 X_test.csv'\n",
      "-rw------- 1 root root 4831129 Jun 11 14:58 '02 X_train.csv'\n",
      "-rw------- 1 root root   40580 Jun 11 14:58 '02 y_test.csv'\n",
      "-rw------- 1 root root  770651 Jun 11 14:58 '02 y_train.csv'\n",
      "-rw------- 1 root root  322748 Jun 11 14:58 '03 ARIMA.ipynb'\n",
      "-rw------- 1 root root    2277 Jun 11 14:58  03_Result_ARIMA.csv\n",
      "-rw------- 1 root root 6247212 Jun 11 14:58  04c_ARIMA_Manggarai.ipynb\n",
      "-rw------- 1 root root  631448 Jun 11 14:58  06_DataPreperation_ML.ipynb\n",
      "-rw------- 1 root root 1611961 Jun 11 14:58  07a_best_model.keras\n",
      "-rw------- 1 root root  365926 Jun 13 23:17  07a_LSTM_Manggarai.ipynb\n",
      "-rw------- 1 root root 1685693 Jun 11 14:58  07b_best_model.keras\n",
      "-rw------- 1 root root  361855 Jun 13 23:17  07b_LSTM_Manggarai_with_weather.ipynb\n",
      "-rw------- 1 root root 1066402 Jun 13 20:34  08a_XGBoost_Manggarai.ipynb\n",
      "-rw------- 1 root root  217793 Jun 13 20:09 '08 grid_search_results.csv'\n",
      "-rw------- 1 root root   31409 Jun 11 14:58  app.py\n",
      "-rw------- 1 root root  201707 Jun 13 20:13  final_optimized_xgboost_model.json\n",
      "drwx------ 2 root root    4096 Jun 11 14:57  .git\n",
      "drwx------ 2 root root    4096 Jun 11 14:58  __pycache__\n",
      "-rw------- 1 root root      11 Jun 11 14:58  README.md\n"
     ]
    }
   ],
   "source": [
    "# ONLY RUN THIS IF YOU'RE IN GOOGLE COLAB\n",
    "from google.colab import drive\n",
    "import os\n",
    "\n",
    "drive.mount('/content/drive')\n",
    "os.chdir('/content/drive/MyDrive/Thesis/Pintu-Air/notebooks')\n",
    "\n",
    "# Verify you're in the right place\n",
    "!pwd\n",
    "!ls -la"
   ]
  },
  {
   "cell_type": "code",
   "execution_count": 16,
   "id": "24174e73",
   "metadata": {
    "executionInfo": {
     "elapsed": 5875,
     "status": "ok",
     "timestamp": 1749865668223,
     "user": {
      "displayName": "elvano",
      "userId": "10794472318038798566"
     },
     "user_tz": -420
    },
    "id": "24174e73"
   },
   "outputs": [],
   "source": [
    "import pandas as pd\n",
    "import numpy as np\n",
    "import matplotlib.pyplot as plt\n",
    "import seaborn as sns\n",
    "from sklearn.preprocessing import MinMaxScaler\n",
    "from sklearn.metrics import mean_squared_error, mean_absolute_error, r2_score, mean_absolute_percentage_error\n",
    "import tensorflow as tf\n",
    "from tensorflow.keras.models import Sequential\n",
    "from tensorflow.keras.layers import LSTM, Dense, Dropout\n",
    "from tensorflow.keras.callbacks import EarlyStopping, ReduceLROnPlateau\n",
    "from tensorflow.keras.optimizers import Adam\n",
    "from itertools import product\n",
    "import warnings\n",
    "warnings.filterwarnings('ignore')"
   ]
  },
  {
   "cell_type": "code",
   "execution_count": 2,
   "id": "f9a53e38",
   "metadata": {
    "colab": {
     "base_uri": "https://localhost:8080/"
    },
    "executionInfo": {
     "elapsed": 60,
     "status": "ok",
     "timestamp": 1749852768395,
     "user": {
      "displayName": "elvano",
      "userId": "10794472318038798566"
     },
     "user_tz": -420
    },
    "id": "f9a53e38",
    "outputId": "56605318-eff7-40ed-ec26-3ba6bcdfb67f"
   },
   "outputs": [
    {
     "name": "stdout",
     "output_type": "stream",
     "text": [
      "GPU Available: [PhysicalDevice(name='/physical_device:GPU:0', device_type='GPU')]\n"
     ]
    }
   ],
   "source": [
    "# GPU Configuration\n",
    "print(\"GPU Available:\", tf.config.list_physical_devices('GPU'))"
   ]
  },
  {
   "cell_type": "code",
   "execution_count": 3,
   "id": "67d262ac",
   "metadata": {
    "executionInfo": {
     "elapsed": 7,
     "status": "ok",
     "timestamp": 1749865673244,
     "user": {
      "displayName": "elvano",
      "userId": "10794472318038798566"
     },
     "user_tz": -420
    },
    "id": "67d262ac"
   },
   "outputs": [],
   "source": [
    "# Set random seeds for reproducibility\n",
    "np.random.seed(42)\n",
    "tf.random.set_seed(42)"
   ]
  },
  {
   "cell_type": "code",
   "execution_count": 4,
   "id": "d1iH8q6PYLeO",
   "metadata": {
    "executionInfo": {
     "elapsed": 1016,
     "status": "ok",
     "timestamp": 1749865676062,
     "user": {
      "displayName": "elvano",
      "userId": "10794472318038798566"
     },
     "user_tz": -420
    },
    "id": "d1iH8q6PYLeO"
   },
   "outputs": [],
   "source": [
    "y_train = (pd.read_csv(\"02 y_train.csv\", index_col='Tanggal')).values\n",
    "y_test = (pd.read_csv(\"02 y_test.csv\", index_col='Tanggal')).values"
   ]
  },
  {
   "cell_type": "code",
   "execution_count": 10,
   "id": "247b858c",
   "metadata": {
    "executionInfo": {
     "elapsed": 630,
     "status": "ok",
     "timestamp": 1749865687979,
     "user": {
      "displayName": "elvano",
      "userId": "10794472318038798566"
     },
     "user_tz": -420
    },
    "id": "247b858c"
   },
   "outputs": [],
   "source": [
    "X = pd.read_csv(\"02 All Data.csv\")\n",
    "X['Tanggal'] = pd.to_datetime( X['Tanggal'])\n",
    "X = X.set_index('Tanggal')\n",
    "X = X.iloc[24:] # to keep the number of data the same as other model\n",
    "\n",
    "# One-hot encode all cuaca columns and drop 'Terang' column\n",
    "categorical_col = [col for col in X.columns if 'cuaca' in col]\n",
    "numeric_col = [col for col in X.columns if 'air' in col]\n",
    "\n",
    "X_cat = pd.concat([X[col] for col in categorical_col], axis=1)\n",
    "X_num = pd.concat([X[col] for col in numeric_col], axis=1)\n",
    "\n",
    "columns_to_drop = []\n",
    "\n",
    "for cuaca_col in categorical_col:\n",
    "    # Create a new binary column for 'Hujan' or 'Gerimis'\n",
    "    X_cat[f'{cuaca_col}_hujan'] = X_cat[cuaca_col].isin(['Hujan', 'Gerimis'])\n",
    "    # Add the original 'cuaca' column to the list of columns to be dropped\n",
    "    columns_to_drop.append(cuaca_col)\n",
    "\n",
    "# Drop the original string-based 'cuaca' columns\n",
    "X_cat = X_cat.drop(columns=columns_to_drop)"
   ]
  },
  {
   "cell_type": "code",
   "execution_count": 11,
   "id": "pEKv9oKycB-C",
   "metadata": {
    "colab": {
     "base_uri": "https://localhost:8080/"
    },
    "executionInfo": {
     "elapsed": 61,
     "status": "ok",
     "timestamp": 1749865697540,
     "user": {
      "displayName": "elvano",
      "userId": "10794472318038798566"
     },
     "user_tz": -420
    },
    "id": "pEKv9oKycB-C",
    "outputId": "3bfea758-3817-42dd-bdc6-fa4d53245b56"
   },
   "outputs": [
    {
     "name": "stdout",
     "output_type": "stream",
     "text": [
      "\n",
      "============================================================\n",
      "Data Train and Test Distribution:\n",
      "============================================================\n",
      "Jumlah data: 31200\n",
      "Jumlah data X train: 29640\n",
      "Jumlah data X test: 1560\n",
      "Jumlah data y train: 29640\n",
      "Jumlah data y test: 1560\n"
     ]
    }
   ],
   "source": [
    "# Seperate train and test data\n",
    "split_index = int(len(X) * 0.95)\n",
    "\n",
    "X_num_train = X_num[:split_index]\n",
    "X_num_test = X_num[split_index:]\n",
    "\n",
    "X_cat_train = X_cat[:split_index]\n",
    "X_cat_test = X_cat[split_index:]\n",
    "\n",
    "# Scale the data\n",
    "scaler_X = MinMaxScaler()\n",
    "scaler_y = MinMaxScaler()\n",
    "\n",
    "X_num_train_scaled = scaler_X.fit_transform(X_num_train)\n",
    "X_num_test_scaled = scaler_X.transform(X_num_test)\n",
    "y_train_scaled = scaler_y.fit_transform(y_train.reshape(-1, 1)).flatten()\n",
    "\n",
    "# Combine scaled continuous with unscaled binary features\n",
    "X_train = np.concatenate([X_num_train_scaled, X_cat_train], axis=1)\n",
    "X_test = np.concatenate([X_num_test_scaled, X_cat_test], axis=1)\n",
    "\n",
    "print(f\"\\n{'='*60}\\nData Train and Test Distribution:\\n{'='*60}\")\n",
    "\n",
    "print(f'Jumlah data: {len(X)}')\n",
    "\n",
    "print(f'Jumlah data X train: {len(X_num_train)}')\n",
    "print(f'Jumlah data X test: {len(X_num_test)}')\n",
    "\n",
    "print(f'Jumlah data y train: {len(y_train)}')\n",
    "print(f'Jumlah data y test: {len(y_test)}')\n"
   ]
  },
  {
   "cell_type": "code",
   "execution_count": 14,
   "id": "W2X5OPV_H-MO",
   "metadata": {
    "executionInfo": {
     "elapsed": 15,
     "status": "ok",
     "timestamp": 1749866160270,
     "user": {
      "displayName": "elvano",
      "userId": "10794472318038798566"
     },
     "user_tz": -420
    },
    "id": "W2X5OPV_H-MO"
   },
   "outputs": [],
   "source": [
    "def create_sequences(X, y, sequence_length):\n",
    "    X_seq, y_seq = [], []\n",
    "\n",
    "    for i in range(sequence_length, len(X)):\n",
    "        # Take sequence_length previous time steps as features\n",
    "        X_seq.append(X[i-sequence_length:i])\n",
    "        # Current time step as target\n",
    "        y_seq.append(y[i])\n",
    "\n",
    "    return np.array(X_seq), np.array(y_seq)"
   ]
  },
  {
   "cell_type": "code",
   "execution_count": 17,
   "id": "16b73930",
   "metadata": {},
   "outputs": [],
   "source": [
    "def build_lstm_model(sequence_length, n_features, lstm_units, dropout_rate, learning_rate):\n",
    "    \"\"\"Build LSTM model with specified parameters\"\"\"\n",
    "    model = Sequential()\n",
    "    \n",
    "    # First LSTM layer\n",
    "    model.add(LSTM(lstm_units[0], return_sequences=True if len(lstm_units) > 1 else False, \n",
    "                   input_shape=(sequence_length, n_features)))\n",
    "    model.add(Dropout(dropout_rate))\n",
    "    \n",
    "    # Additional LSTM layers\n",
    "    for i in range(1, len(lstm_units)):\n",
    "        return_seq = True if i < len(lstm_units) - 1 else False\n",
    "        model.add(LSTM(lstm_units[i], return_sequences=return_seq))\n",
    "        model.add(Dropout(dropout_rate))\n",
    "    \n",
    "    # Dense layers\n",
    "    model.add(Dense(16, activation='relu'))\n",
    "    model.add(Dense(1))\n",
    "    \n",
    "    # Compile model\n",
    "    model.compile(\n",
    "        optimizer=Adam(learning_rate=learning_rate),\n",
    "        loss='mse',\n",
    "        metrics=['mae']\n",
    "    )\n",
    "    \n",
    "    return model"
   ]
  },
  {
   "cell_type": "code",
   "execution_count": 18,
   "id": "98966828",
   "metadata": {},
   "outputs": [],
   "source": [
    "def evaluate_model(model, X_seq, y_actual, scaler_y, dataset_name=\"\"):\n",
    "    \"\"\"Evaluate model and return metrics for any dataset (train/test)\"\"\"\n",
    "    # Predict\n",
    "    y_pred_scaled = model.predict(X_seq, verbose=0)\n",
    "    y_pred = scaler_y.inverse_transform(y_pred_scaled.reshape(-1, 1)).flatten()\n",
    "    \n",
    "    # Calculate metrics using sklearn functions\n",
    "    mse = mean_squared_error(y_actual, y_pred)\n",
    "    rmse = np.sqrt(mse)\n",
    "    mae = mean_absolute_error(y_actual, y_pred)\n",
    "    r2 = r2_score(y_actual, y_pred)\n",
    "    mape = mean_absolute_percentage_error(y_actual, y_pred) * 100  # Convert to percentage\n",
    "    \n",
    "    # Add prefix to metric names if dataset specified\n",
    "    prefix = f\"{dataset_name}_\" if dataset_name else \"\"\n",
    "    \n",
    "    return {\n",
    "        f'{prefix}MSE': mse,\n",
    "        f'{prefix}RMSE': rmse,\n",
    "        f'{prefix}MAE': mae,\n",
    "        f'{prefix}R2': r2,\n",
    "        f'{prefix}MAPE': mape,\n",
    "        f'{prefix}predictions': y_pred\n",
    "    }"
   ]
  },
  {
   "cell_type": "code",
   "execution_count": 19,
   "id": "2196fafe",
   "metadata": {},
   "outputs": [],
   "source": [
    "def create_results_summary(results_df):\n",
    "    \"\"\"Create summary tables and visualizations for thesis\"\"\"\n",
    "    \n",
    "    # 1. Top 10 models summary\n",
    "    top_models = results_df.nsmallest(10, 'Test_RMSE').copy()\n",
    "    top_models['Architecture'] = top_models['lstm_units'].astype(str)\n",
    "    top_models['Overfitting'] = top_models['Train_RMSE'] - top_models['Test_RMSE']\n",
    "    \n",
    "    summary_cols = ['Architecture', 'learning_rate', 'dropout_rate', \n",
    "                   'Train_RMSE', 'Val_RMSE', 'Test_RMSE', \n",
    "                   'Train_R2', 'Val_R2', 'Test_R2', \n",
    "                   'Train_MAE', 'Val_MAE', 'Test_MAE', \n",
    "                   'Train_MAPE', 'Val_MAPE', 'Test_MAPE', 'Overfitting']\n",
    "    \n",
    "    top_summary = top_models[summary_cols]\n",
    "    \n",
    "    # 2. Best model per architecture\n",
    "    arch_summary = results_df.groupby('lstm_units').apply(\n",
    "        lambda x: x.loc[x['Test_RMSE'].idxmin()]\n",
    "    )[summary_cols].round(6)\n",
    "    \n",
    "    # 3. Learning rate analysis\n",
    "    lr_summary = results_df.groupby('learning_rate').agg({\n",
    "        'Test_RMSE': ['mean', 'std', 'min'],\n",
    "        'Test_R2': ['mean', 'std', 'max'],\n",
    "        'Train_RMSE': ['mean', 'std', 'min'],\n",
    "        'Train_R2': ['mean', 'std', 'max'],\n",
    "        'Val_RMSE': ['mean', 'std', 'min'],\n",
    "        'Val_R2': ['mean', 'std', 'max']\n",
    "    })\n",
    "    \n",
    "    return top_summary, arch_summary, lr_summary"
   ]
  },
  {
   "cell_type": "code",
   "execution_count": 20,
   "id": "a6a340d2",
   "metadata": {},
   "outputs": [],
   "source": [
    "def count_combinations(param_grid):\n",
    "    \"\"\"Count total parameter combinations\"\"\"\n",
    "    total = 1\n",
    "    for param, values in param_grid.items():\n",
    "        total *= len(values)\n",
    "    return total"
   ]
  },
  {
   "cell_type": "code",
   "execution_count": null,
   "id": "437807e3",
   "metadata": {},
   "outputs": [],
   "source": [
    "def lstm_grid_search(X_train, y_train_scaled, X_test, y_test, scaler_y, param_grid):\n",
    "    \"\"\"\n",
    "    Perform grid search for LSTM hyperparameters\n",
    "    \"\"\"\n",
    "    results = []\n",
    "    best_score = float('inf')\n",
    "    best_params = None\n",
    "    best_model = None\n",
    "    \n",
    "    # Generate all parameter combinations\n",
    "    param_combinations = list(product(*param_grid.values()))\n",
    "    param_names = list(param_grid.keys())\n",
    "    \n",
    "    total_combinations = len(param_combinations)\n",
    "    estimated_time = total_combinations * 5 / 60  # 5 minutes per combination\n",
    "    \n",
    "    print(f\"Starting Grid Search:\")\n",
    "    print(f\"- Total combinations: {total_combinations}\")\n",
    "    print(f\"- Estimated time: {estimated_time:.1f} hours\")\n",
    "    print(f\"{'='*80}\")\n",
    "    \n",
    "    for i, params in enumerate(param_combinations):\n",
    "        param_dict = dict(zip(param_names, params))\n",
    "        print(f\"\\nCombination {i+1}/{total_combinations}: {param_dict}\")\n",
    "        \n",
    "        try:\n",
    "            # Create sequences\n",
    "            X_seq, y_seq = create_sequences(X_train, y_train_scaled, param_dict['sequence_length'])\n",
    "            \n",
    "            # Split for validation (80% train, 20% validation)\n",
    "            val_size = int(len(X_seq) * 0.2)\n",
    "            X_train_fold = X_seq[:-val_size]\n",
    "            y_train_fold = y_seq[:-val_size]\n",
    "            X_val_fold = X_seq[-val_size:]\n",
    "            y_val_fold = y_seq[-val_size:]\n",
    "            \n",
    "            # Build model\n",
    "            model = build_lstm_model(\n",
    "                sequence_length=param_dict['sequence_length'],\n",
    "                n_features=X_seq.shape[2],\n",
    "                lstm_units=param_dict['lstm_units'],\n",
    "                dropout_rate=param_dict['dropout_rate'],\n",
    "                learning_rate=param_dict['learning_rate']\n",
    "            )\n",
    "            \n",
    "            # Callbacks\n",
    "            early_stopping = EarlyStopping(\n",
    "                monitor='val_loss', patience=15, restore_best_weights=True, verbose=0\n",
    "            )\n",
    "            reduce_lr = ReduceLROnPlateau(\n",
    "                monitor='val_loss', factor=0.5, patience=8, min_lr=0.00001, verbose=0\n",
    "            )\n",
    "            \n",
    "            # Train model\n",
    "            history = model.fit(\n",
    "                X_train_fold, y_train_fold,\n",
    "                epochs=param_dict['epochs'],\n",
    "                batch_size=param_dict['batch_size'],\n",
    "                validation_data=(X_val_fold, y_val_fold),\n",
    "                callbacks=[early_stopping, reduce_lr],\n",
    "                verbose=0\n",
    "            )\n",
    "            \n",
    "            # Evaluate on both training and test sets\n",
    "            # Training evaluation (on actual training data used for fitting)\n",
    "            y_train_fold_actual = scaler_y.inverse_transform(y_train_fold.reshape(-1, 1)).flatten()\n",
    "            train_metrics = evaluate_model(model, X_train_fold, y_train_fold_actual, scaler_y, \"Train\")\n",
    "            \n",
    "            # Validation evaluation (for monitoring during training)\n",
    "            val_metrics = evaluate_model(model, X_val_fold, y_val_fold.flatten(), scaler_y, \"Val\")\n",
    "            \n",
    "            # Test evaluation (completely unseen data)\n",
    "            X_test_seq, _ = create_sequences(X_test, y_test.flatten(), param_dict['sequence_length'])\n",
    "            y_test_actual = y_test[param_dict['sequence_length']:]\n",
    "            test_metrics = evaluate_model(model, X_test_seq, y_test_actual, scaler_y, \"Test\")\n",
    "            \n",
    "            # Store comprehensive results\n",
    "            result = {\n",
    "                'params': param_dict.copy(),\n",
    "                'val_loss': min(history.history['val_loss']),\n",
    "                'epochs_trained': len(history.history['loss']),\n",
    "                **train_metrics,\n",
    "                **val_metrics,\n",
    "                **test_metrics\n",
    "            }\n",
    "            results.append(result)\n",
    "            \n",
    "            print(f\"Train RMSE: {train_metrics['Train_RMSE']}, R²: {train_metrics['Train_R2']}, MAE: {train_metrics['Train_MAE']}, MAPE: {train_metrics['Train_MAPE']}\")\n",
    "            print(f\"Val RMSE: {val_metrics['Val_RMSE']}, R²: {val_metrics['Val_R2']}, MAE: {val_metrics['Val_MAE']}, MAPE: {val_metrics['Val_MAPE']}\")\n",
    "            print(f\"Test RMSE: {test_metrics['Test_RMSE']}, R²: {test_metrics['Test_R2']}, MAE: {test_metrics['Test_MAE']}, MAPE: {test_metrics['Test_MAPE']}\")\n",
    "            print(f\"Overfitting (Train-Test): RMSE: {train_metrics['Train_RMSE'] - test_metrics['Test_RMSE']}, R²: {train_metrics['Train_R2'] - test_metrics['Test_R2']}\")\n",
    "            \n",
    "            # Update best model based on test RMSE\n",
    "            if test_metrics['Test_RMSE'] < best_score:\n",
    "                best_score = test_metrics['Test_RMSE']\n",
    "                best_params = param_dict.copy()\n",
    "                best_model = model\n",
    "                print(f\"NEW BEST MODEL! Test RMSE: {best_score}\")\n",
    "            \n",
    "        except Exception as e:\n",
    "            print(f\"Error: {str(e)}\")\n",
    "            result = {\n",
    "                'params': param_dict.copy(),\n",
    "                'error': str(e),\n",
    "                'RMSE': float('inf')\n",
    "            }\n",
    "            results.append(result)\n",
    "        \n",
    "        print(\"-\" * 80)\n",
    "    \n",
    "    return results, best_params, best_model"
   ]
  },
  {
   "cell_type": "code",
   "execution_count": 22,
   "id": "bee1378b",
   "metadata": {},
   "outputs": [],
   "source": [
    "param_grid = {\n",
    "    'sequence_length': [24],  # Fixed based on daily seasonality\n",
    "    'lstm_units': [\n",
    "        [64, 32, 16],      # Small model\n",
    "        [128, 64, 32],     # Medium model\n",
    "        [256, 128, 64]     # Large model\n",
    "    ],\n",
    "    'dropout_rate': [0.2, 0.3],  # Moderate regularization\n",
    "    'learning_rate': [0.001, 0.005, 0.01],  # Key learning rates\n",
    "    'batch_size': [32],  # Fixed at common value\n",
    "    'epochs': [100]\n",
    "}\n",
    "\n",
    "param_grid_ultra_fast = {\n",
    "    'sequence_length': [24],\n",
    "    'lstm_units': [\n",
    "        [64, 32, 16],      # Small baseline\n",
    "        [128, 64, 32]      # Medium model\n",
    "    ],\n",
    "    'dropout_rate': [0.2],\n",
    "    'learning_rate': [0.001, 0.005, 0.01],\n",
    "    'batch_size': [32],\n",
    "    'epochs': [50]\n",
    "}"
   ]
  },
  {
   "cell_type": "code",
   "execution_count": 23,
   "id": "b7d0700a",
   "metadata": {},
   "outputs": [
    {
     "name": "stdout",
     "output_type": "stream",
     "text": [
      "Parameter Grid Selected:\n",
      "  sequence_length: [24]\n",
      "  lstm_units: [[64, 32, 16], [128, 64, 32]]\n",
      "  dropout_rate: [0.2]\n",
      "  learning_rate: [0.001, 0.005, 0.01]\n",
      "  batch_size: [32]\n",
      "  epochs: [50]\n",
      "\n",
      "Total combinations: 6\n",
      "Estimated time: 0.5 hours\n"
     ]
    }
   ],
   "source": [
    "current_param_grid = param_grid_ultra_fast\n",
    "\n",
    "print(\"Parameter Grid Selected:\")\n",
    "for param, values in current_param_grid.items():\n",
    "    print(f\"  {param}: {values}\")\n",
    "\n",
    "combinations = count_combinations(current_param_grid)\n",
    "estimated_hours = combinations * 5 / 60\n",
    "print(f\"\\nTotal combinations: {combinations}\")\n",
    "print(f\"Estimated time: {estimated_hours:.1f} hours\")"
   ]
  },
  {
   "cell_type": "code",
   "execution_count": 24,
   "id": "8f3cca63",
   "metadata": {},
   "outputs": [
    {
     "name": "stdout",
     "output_type": "stream",
     "text": [
      "Starting Grid Search:\n",
      "- Total combinations: 6\n",
      "- Estimated time: 0.5 hours\n",
      "================================================================================\n",
      "\n",
      "Combination 1/6: {'sequence_length': 24, 'lstm_units': [64, 32, 16], 'dropout_rate': 0.2, 'learning_rate': 0.001, 'batch_size': 32, 'epochs': 50}\n"
     ]
    },
    {
     "name": "stderr",
     "output_type": "stream",
     "text": [
      "I0000 00:00:1750224161.383071    1538 gpu_device.cc:2019] Created device /job:localhost/replica:0/task:0/device:GPU:0 with 1767 MB memory:  -> device: 0, name: NVIDIA GeForce RTX 3050 Laptop GPU, pci bus id: 0000:01:00.0, compute capability: 8.6\n",
      "I0000 00:00:1750224173.212590   15274 cuda_dnn.cc:529] Loaded cuDNN version 90300\n"
     ]
    },
    {
     "name": "stdout",
     "output_type": "stream",
     "text": [
      "Train RMSE: 613.74260664454, R²: -122129675.29045981, MAE: 612.7549124810622, MAPE: 2.2570800033074692e+16\n",
      "Val RMSE: 615.7052136239573, R²: -168211357.37114686, MAE: 614.978567061606, MAPE: 4.4267748026430216e+16\n",
      "Test RMSE: 31.957280779401998, R²: -0.29526971543191527, MAE: 21.79202163219452, MAPE: 4.5557810940377665\n",
      "Overfitting (Train-Test): RMSE: 581.785325865138, R²: -122129674.9951901\n",
      "NEW BEST MODEL! Test RMSE: 31.957280779401998\n",
      "--------------------------------------------------------------------------------\n",
      "\n",
      "Combination 2/6: {'sequence_length': 24, 'lstm_units': [64, 32, 16], 'dropout_rate': 0.2, 'learning_rate': 0.005, 'batch_size': 32, 'epochs': 50}\n",
      "Train RMSE: 620.1667275657135, R²: -124699749.21644221, MAE: 619.3954946433628, MAPE: 2.2857314395540892e+16\n",
      "Val RMSE: 620.0367228598114, R²: -170586428.85719588, MAE: 619.5415442652276, MAPE: 4.514490695662962e+16\n",
      "Test RMSE: 29.681148622827898, R²: -0.11733134333630857, MAE: 18.729326566060383, MAPE: 4.081237439039976\n",
      "Overfitting (Train-Test): RMSE: 590.4855789428856, R²: -124699749.09911087\n",
      "NEW BEST MODEL! Test RMSE: 29.681148622827898\n",
      "--------------------------------------------------------------------------------\n",
      "\n",
      "Combination 3/6: {'sequence_length': 24, 'lstm_units': [64, 32, 16], 'dropout_rate': 0.2, 'learning_rate': 0.01, 'batch_size': 32, 'epochs': 50}\n"
     ]
    },
    {
     "ename": "KeyboardInterrupt",
     "evalue": "",
     "output_type": "error",
     "traceback": [
      "\u001b[31m---------------------------------------------------------------------------\u001b[39m",
      "\u001b[31mKeyboardInterrupt\u001b[39m                         Traceback (most recent call last)",
      "\u001b[36mCell\u001b[39m\u001b[36m \u001b[39m\u001b[32mIn[24]\u001b[39m\u001b[32m, line 2\u001b[39m\n\u001b[32m      1\u001b[39m \u001b[38;5;66;03m# RUN GRID SEARCH\u001b[39;00m\n\u001b[32m----> \u001b[39m\u001b[32m2\u001b[39m results, best_params, best_model = \u001b[43mlstm_grid_search\u001b[49m\u001b[43m(\u001b[49m\n\u001b[32m      3\u001b[39m \u001b[43m    \u001b[49m\u001b[43mX_train\u001b[49m\u001b[43m,\u001b[49m\u001b[43m \u001b[49m\u001b[43my_train_scaled\u001b[49m\u001b[43m,\u001b[49m\u001b[43m \u001b[49m\u001b[43mX_test\u001b[49m\u001b[43m,\u001b[49m\u001b[43m \u001b[49m\u001b[43my_test\u001b[49m\u001b[43m,\u001b[49m\u001b[43m \u001b[49m\u001b[43mscaler_y\u001b[49m\u001b[43m,\u001b[49m\u001b[43m \u001b[49m\u001b[43mcurrent_param_grid\u001b[49m\n\u001b[32m      4\u001b[39m \u001b[43m)\u001b[49m\n",
      "\u001b[36mCell\u001b[39m\u001b[36m \u001b[39m\u001b[32mIn[21]\u001b[39m\u001b[32m, line 55\u001b[39m, in \u001b[36mlstm_grid_search\u001b[39m\u001b[34m(X_train, y_train_scaled, X_test, y_test, scaler_y, param_grid)\u001b[39m\n\u001b[32m     50\u001b[39m reduce_lr = ReduceLROnPlateau(\n\u001b[32m     51\u001b[39m     monitor=\u001b[33m'\u001b[39m\u001b[33mval_loss\u001b[39m\u001b[33m'\u001b[39m, factor=\u001b[32m0.5\u001b[39m, patience=\u001b[32m8\u001b[39m, min_lr=\u001b[32m0.00001\u001b[39m, verbose=\u001b[32m0\u001b[39m\n\u001b[32m     52\u001b[39m )\n\u001b[32m     54\u001b[39m \u001b[38;5;66;03m# Train model\u001b[39;00m\n\u001b[32m---> \u001b[39m\u001b[32m55\u001b[39m history = \u001b[43mmodel\u001b[49m\u001b[43m.\u001b[49m\u001b[43mfit\u001b[49m\u001b[43m(\u001b[49m\n\u001b[32m     56\u001b[39m \u001b[43m    \u001b[49m\u001b[43mX_train_fold\u001b[49m\u001b[43m,\u001b[49m\u001b[43m \u001b[49m\u001b[43my_train_fold\u001b[49m\u001b[43m,\u001b[49m\n\u001b[32m     57\u001b[39m \u001b[43m    \u001b[49m\u001b[43mepochs\u001b[49m\u001b[43m=\u001b[49m\u001b[43mparam_dict\u001b[49m\u001b[43m[\u001b[49m\u001b[33;43m'\u001b[39;49m\u001b[33;43mepochs\u001b[39;49m\u001b[33;43m'\u001b[39;49m\u001b[43m]\u001b[49m\u001b[43m,\u001b[49m\n\u001b[32m     58\u001b[39m \u001b[43m    \u001b[49m\u001b[43mbatch_size\u001b[49m\u001b[43m=\u001b[49m\u001b[43mparam_dict\u001b[49m\u001b[43m[\u001b[49m\u001b[33;43m'\u001b[39;49m\u001b[33;43mbatch_size\u001b[39;49m\u001b[33;43m'\u001b[39;49m\u001b[43m]\u001b[49m\u001b[43m,\u001b[49m\n\u001b[32m     59\u001b[39m \u001b[43m    \u001b[49m\u001b[43mvalidation_data\u001b[49m\u001b[43m=\u001b[49m\u001b[43m(\u001b[49m\u001b[43mX_val_fold\u001b[49m\u001b[43m,\u001b[49m\u001b[43m \u001b[49m\u001b[43my_val_fold\u001b[49m\u001b[43m)\u001b[49m\u001b[43m,\u001b[49m\n\u001b[32m     60\u001b[39m \u001b[43m    \u001b[49m\u001b[43mcallbacks\u001b[49m\u001b[43m=\u001b[49m\u001b[43m[\u001b[49m\u001b[43mearly_stopping\u001b[49m\u001b[43m,\u001b[49m\u001b[43m \u001b[49m\u001b[43mreduce_lr\u001b[49m\u001b[43m]\u001b[49m\u001b[43m,\u001b[49m\n\u001b[32m     61\u001b[39m \u001b[43m    \u001b[49m\u001b[43mverbose\u001b[49m\u001b[43m=\u001b[49m\u001b[32;43m0\u001b[39;49m\n\u001b[32m     62\u001b[39m \u001b[43m\u001b[49m\u001b[43m)\u001b[49m\n\u001b[32m     64\u001b[39m \u001b[38;5;66;03m# Evaluate on both training and test sets\u001b[39;00m\n\u001b[32m     65\u001b[39m \u001b[38;5;66;03m# Training evaluation (on actual training data used for fitting)\u001b[39;00m\n\u001b[32m     66\u001b[39m train_metrics = evaluate_model(model, X_train_fold, y_train_fold.flatten(), scaler_y, \u001b[33m\"\u001b[39m\u001b[33mTrain\u001b[39m\u001b[33m\"\u001b[39m)\n",
      "\u001b[36mFile \u001b[39m\u001b[32m~/thesis_env/lib/python3.12/site-packages/keras/src/utils/traceback_utils.py:117\u001b[39m, in \u001b[36mfilter_traceback.<locals>.error_handler\u001b[39m\u001b[34m(*args, **kwargs)\u001b[39m\n\u001b[32m    115\u001b[39m filtered_tb = \u001b[38;5;28;01mNone\u001b[39;00m\n\u001b[32m    116\u001b[39m \u001b[38;5;28;01mtry\u001b[39;00m:\n\u001b[32m--> \u001b[39m\u001b[32m117\u001b[39m     \u001b[38;5;28;01mreturn\u001b[39;00m \u001b[43mfn\u001b[49m\u001b[43m(\u001b[49m\u001b[43m*\u001b[49m\u001b[43margs\u001b[49m\u001b[43m,\u001b[49m\u001b[43m \u001b[49m\u001b[43m*\u001b[49m\u001b[43m*\u001b[49m\u001b[43mkwargs\u001b[49m\u001b[43m)\u001b[49m\n\u001b[32m    118\u001b[39m \u001b[38;5;28;01mexcept\u001b[39;00m \u001b[38;5;167;01mException\u001b[39;00m \u001b[38;5;28;01mas\u001b[39;00m e:\n\u001b[32m    119\u001b[39m     filtered_tb = _process_traceback_frames(e.__traceback__)\n",
      "\u001b[36mFile \u001b[39m\u001b[32m~/thesis_env/lib/python3.12/site-packages/keras/src/backend/tensorflow/trainer.py:377\u001b[39m, in \u001b[36mTensorFlowTrainer.fit\u001b[39m\u001b[34m(self, x, y, batch_size, epochs, verbose, callbacks, validation_split, validation_data, shuffle, class_weight, sample_weight, initial_epoch, steps_per_epoch, validation_steps, validation_batch_size, validation_freq)\u001b[39m\n\u001b[32m    375\u001b[39m \u001b[38;5;28;01mfor\u001b[39;00m step, iterator \u001b[38;5;129;01min\u001b[39;00m epoch_iterator:\n\u001b[32m    376\u001b[39m     callbacks.on_train_batch_begin(step)\n\u001b[32m--> \u001b[39m\u001b[32m377\u001b[39m     logs = \u001b[38;5;28;43mself\u001b[39;49m\u001b[43m.\u001b[49m\u001b[43mtrain_function\u001b[49m\u001b[43m(\u001b[49m\u001b[43miterator\u001b[49m\u001b[43m)\u001b[49m\n\u001b[32m    378\u001b[39m     callbacks.on_train_batch_end(step, logs)\n\u001b[32m    379\u001b[39m     \u001b[38;5;28;01mif\u001b[39;00m \u001b[38;5;28mself\u001b[39m.stop_training:\n",
      "\u001b[36mFile \u001b[39m\u001b[32m~/thesis_env/lib/python3.12/site-packages/keras/src/backend/tensorflow/trainer.py:220\u001b[39m, in \u001b[36mTensorFlowTrainer._make_function.<locals>.function\u001b[39m\u001b[34m(iterator)\u001b[39m\n\u001b[32m    216\u001b[39m \u001b[38;5;28;01mdef\u001b[39;00m\u001b[38;5;250m \u001b[39m\u001b[34mfunction\u001b[39m(iterator):\n\u001b[32m    217\u001b[39m     \u001b[38;5;28;01mif\u001b[39;00m \u001b[38;5;28misinstance\u001b[39m(\n\u001b[32m    218\u001b[39m         iterator, (tf.data.Iterator, tf.distribute.DistributedIterator)\n\u001b[32m    219\u001b[39m     ):\n\u001b[32m--> \u001b[39m\u001b[32m220\u001b[39m         opt_outputs = \u001b[43mmulti_step_on_iterator\u001b[49m\u001b[43m(\u001b[49m\u001b[43miterator\u001b[49m\u001b[43m)\u001b[49m\n\u001b[32m    221\u001b[39m         \u001b[38;5;28;01mif\u001b[39;00m \u001b[38;5;129;01mnot\u001b[39;00m opt_outputs.has_value():\n\u001b[32m    222\u001b[39m             \u001b[38;5;28;01mraise\u001b[39;00m \u001b[38;5;167;01mStopIteration\u001b[39;00m\n",
      "\u001b[36mFile \u001b[39m\u001b[32m~/thesis_env/lib/python3.12/site-packages/tensorflow/python/util/traceback_utils.py:150\u001b[39m, in \u001b[36mfilter_traceback.<locals>.error_handler\u001b[39m\u001b[34m(*args, **kwargs)\u001b[39m\n\u001b[32m    148\u001b[39m filtered_tb = \u001b[38;5;28;01mNone\u001b[39;00m\n\u001b[32m    149\u001b[39m \u001b[38;5;28;01mtry\u001b[39;00m:\n\u001b[32m--> \u001b[39m\u001b[32m150\u001b[39m   \u001b[38;5;28;01mreturn\u001b[39;00m \u001b[43mfn\u001b[49m\u001b[43m(\u001b[49m\u001b[43m*\u001b[49m\u001b[43margs\u001b[49m\u001b[43m,\u001b[49m\u001b[43m \u001b[49m\u001b[43m*\u001b[49m\u001b[43m*\u001b[49m\u001b[43mkwargs\u001b[49m\u001b[43m)\u001b[49m\n\u001b[32m    151\u001b[39m \u001b[38;5;28;01mexcept\u001b[39;00m \u001b[38;5;167;01mException\u001b[39;00m \u001b[38;5;28;01mas\u001b[39;00m e:\n\u001b[32m    152\u001b[39m   filtered_tb = _process_traceback_frames(e.__traceback__)\n",
      "\u001b[36mFile \u001b[39m\u001b[32m~/thesis_env/lib/python3.12/site-packages/tensorflow/python/eager/polymorphic_function/polymorphic_function.py:833\u001b[39m, in \u001b[36mFunction.__call__\u001b[39m\u001b[34m(self, *args, **kwds)\u001b[39m\n\u001b[32m    830\u001b[39m compiler = \u001b[33m\"\u001b[39m\u001b[33mxla\u001b[39m\u001b[33m\"\u001b[39m \u001b[38;5;28;01mif\u001b[39;00m \u001b[38;5;28mself\u001b[39m._jit_compile \u001b[38;5;28;01melse\u001b[39;00m \u001b[33m\"\u001b[39m\u001b[33mnonXla\u001b[39m\u001b[33m\"\u001b[39m\n\u001b[32m    832\u001b[39m \u001b[38;5;28;01mwith\u001b[39;00m OptionalXlaContext(\u001b[38;5;28mself\u001b[39m._jit_compile):\n\u001b[32m--> \u001b[39m\u001b[32m833\u001b[39m   result = \u001b[38;5;28;43mself\u001b[39;49m\u001b[43m.\u001b[49m\u001b[43m_call\u001b[49m\u001b[43m(\u001b[49m\u001b[43m*\u001b[49m\u001b[43margs\u001b[49m\u001b[43m,\u001b[49m\u001b[43m \u001b[49m\u001b[43m*\u001b[49m\u001b[43m*\u001b[49m\u001b[43mkwds\u001b[49m\u001b[43m)\u001b[49m\n\u001b[32m    835\u001b[39m new_tracing_count = \u001b[38;5;28mself\u001b[39m.experimental_get_tracing_count()\n\u001b[32m    836\u001b[39m without_tracing = (tracing_count == new_tracing_count)\n",
      "\u001b[36mFile \u001b[39m\u001b[32m~/thesis_env/lib/python3.12/site-packages/tensorflow/python/eager/polymorphic_function/polymorphic_function.py:878\u001b[39m, in \u001b[36mFunction._call\u001b[39m\u001b[34m(self, *args, **kwds)\u001b[39m\n\u001b[32m    875\u001b[39m \u001b[38;5;28mself\u001b[39m._lock.release()\n\u001b[32m    876\u001b[39m \u001b[38;5;66;03m# In this case we have not created variables on the first call. So we can\u001b[39;00m\n\u001b[32m    877\u001b[39m \u001b[38;5;66;03m# run the first trace but we should fail if variables are created.\u001b[39;00m\n\u001b[32m--> \u001b[39m\u001b[32m878\u001b[39m results = \u001b[43mtracing_compilation\u001b[49m\u001b[43m.\u001b[49m\u001b[43mcall_function\u001b[49m\u001b[43m(\u001b[49m\n\u001b[32m    879\u001b[39m \u001b[43m    \u001b[49m\u001b[43margs\u001b[49m\u001b[43m,\u001b[49m\u001b[43m \u001b[49m\u001b[43mkwds\u001b[49m\u001b[43m,\u001b[49m\u001b[43m \u001b[49m\u001b[38;5;28;43mself\u001b[39;49m\u001b[43m.\u001b[49m\u001b[43m_variable_creation_config\u001b[49m\n\u001b[32m    880\u001b[39m \u001b[43m\u001b[49m\u001b[43m)\u001b[49m\n\u001b[32m    881\u001b[39m \u001b[38;5;28;01mif\u001b[39;00m \u001b[38;5;28mself\u001b[39m._created_variables:\n\u001b[32m    882\u001b[39m   \u001b[38;5;28;01mraise\u001b[39;00m \u001b[38;5;167;01mValueError\u001b[39;00m(\u001b[33m\"\u001b[39m\u001b[33mCreating variables on a non-first call to a function\u001b[39m\u001b[33m\"\u001b[39m\n\u001b[32m    883\u001b[39m                    \u001b[33m\"\u001b[39m\u001b[33m decorated with tf.function.\u001b[39m\u001b[33m\"\u001b[39m)\n",
      "\u001b[36mFile \u001b[39m\u001b[32m~/thesis_env/lib/python3.12/site-packages/tensorflow/python/eager/polymorphic_function/tracing_compilation.py:139\u001b[39m, in \u001b[36mcall_function\u001b[39m\u001b[34m(args, kwargs, tracing_options)\u001b[39m\n\u001b[32m    137\u001b[39m bound_args = function.function_type.bind(*args, **kwargs)\n\u001b[32m    138\u001b[39m flat_inputs = function.function_type.unpack_inputs(bound_args)\n\u001b[32m--> \u001b[39m\u001b[32m139\u001b[39m \u001b[38;5;28;01mreturn\u001b[39;00m \u001b[43mfunction\u001b[49m\u001b[43m.\u001b[49m\u001b[43m_call_flat\u001b[49m\u001b[43m(\u001b[49m\u001b[43m  \u001b[49m\u001b[38;5;66;43;03m# pylint: disable=protected-access\u001b[39;49;00m\n\u001b[32m    140\u001b[39m \u001b[43m    \u001b[49m\u001b[43mflat_inputs\u001b[49m\u001b[43m,\u001b[49m\u001b[43m \u001b[49m\u001b[43mcaptured_inputs\u001b[49m\u001b[43m=\u001b[49m\u001b[43mfunction\u001b[49m\u001b[43m.\u001b[49m\u001b[43mcaptured_inputs\u001b[49m\n\u001b[32m    141\u001b[39m \u001b[43m\u001b[49m\u001b[43m)\u001b[49m\n",
      "\u001b[36mFile \u001b[39m\u001b[32m~/thesis_env/lib/python3.12/site-packages/tensorflow/python/eager/polymorphic_function/concrete_function.py:1322\u001b[39m, in \u001b[36mConcreteFunction._call_flat\u001b[39m\u001b[34m(self, tensor_inputs, captured_inputs)\u001b[39m\n\u001b[32m   1318\u001b[39m possible_gradient_type = gradients_util.PossibleTapeGradientTypes(args)\n\u001b[32m   1319\u001b[39m \u001b[38;5;28;01mif\u001b[39;00m (possible_gradient_type == gradients_util.POSSIBLE_GRADIENT_TYPES_NONE\n\u001b[32m   1320\u001b[39m     \u001b[38;5;129;01mand\u001b[39;00m executing_eagerly):\n\u001b[32m   1321\u001b[39m   \u001b[38;5;66;03m# No tape is watching; skip to running the function.\u001b[39;00m\n\u001b[32m-> \u001b[39m\u001b[32m1322\u001b[39m   \u001b[38;5;28;01mreturn\u001b[39;00m \u001b[38;5;28;43mself\u001b[39;49m\u001b[43m.\u001b[49m\u001b[43m_inference_function\u001b[49m\u001b[43m.\u001b[49m\u001b[43mcall_preflattened\u001b[49m\u001b[43m(\u001b[49m\u001b[43margs\u001b[49m\u001b[43m)\u001b[49m\n\u001b[32m   1323\u001b[39m forward_backward = \u001b[38;5;28mself\u001b[39m._select_forward_and_backward_functions(\n\u001b[32m   1324\u001b[39m     args,\n\u001b[32m   1325\u001b[39m     possible_gradient_type,\n\u001b[32m   1326\u001b[39m     executing_eagerly)\n\u001b[32m   1327\u001b[39m forward_function, args_with_tangents = forward_backward.forward()\n",
      "\u001b[36mFile \u001b[39m\u001b[32m~/thesis_env/lib/python3.12/site-packages/tensorflow/python/eager/polymorphic_function/atomic_function.py:216\u001b[39m, in \u001b[36mAtomicFunction.call_preflattened\u001b[39m\u001b[34m(self, args)\u001b[39m\n\u001b[32m    214\u001b[39m \u001b[38;5;28;01mdef\u001b[39;00m\u001b[38;5;250m \u001b[39m\u001b[34mcall_preflattened\u001b[39m(\u001b[38;5;28mself\u001b[39m, args: Sequence[core.Tensor]) -> Any:\n\u001b[32m    215\u001b[39m \u001b[38;5;250m  \u001b[39m\u001b[33;03m\"\"\"Calls with flattened tensor inputs and returns the structured output.\"\"\"\u001b[39;00m\n\u001b[32m--> \u001b[39m\u001b[32m216\u001b[39m   flat_outputs = \u001b[38;5;28;43mself\u001b[39;49m\u001b[43m.\u001b[49m\u001b[43mcall_flat\u001b[49m\u001b[43m(\u001b[49m\u001b[43m*\u001b[49m\u001b[43margs\u001b[49m\u001b[43m)\u001b[49m\n\u001b[32m    217\u001b[39m   \u001b[38;5;28;01mreturn\u001b[39;00m \u001b[38;5;28mself\u001b[39m.function_type.pack_output(flat_outputs)\n",
      "\u001b[36mFile \u001b[39m\u001b[32m~/thesis_env/lib/python3.12/site-packages/tensorflow/python/eager/polymorphic_function/atomic_function.py:251\u001b[39m, in \u001b[36mAtomicFunction.call_flat\u001b[39m\u001b[34m(self, *args)\u001b[39m\n\u001b[32m    249\u001b[39m \u001b[38;5;28;01mwith\u001b[39;00m record.stop_recording():\n\u001b[32m    250\u001b[39m   \u001b[38;5;28;01mif\u001b[39;00m \u001b[38;5;28mself\u001b[39m._bound_context.executing_eagerly():\n\u001b[32m--> \u001b[39m\u001b[32m251\u001b[39m     outputs = \u001b[38;5;28;43mself\u001b[39;49m\u001b[43m.\u001b[49m\u001b[43m_bound_context\u001b[49m\u001b[43m.\u001b[49m\u001b[43mcall_function\u001b[49m\u001b[43m(\u001b[49m\n\u001b[32m    252\u001b[39m \u001b[43m        \u001b[49m\u001b[38;5;28;43mself\u001b[39;49m\u001b[43m.\u001b[49m\u001b[43mname\u001b[49m\u001b[43m,\u001b[49m\n\u001b[32m    253\u001b[39m \u001b[43m        \u001b[49m\u001b[38;5;28;43mlist\u001b[39;49m\u001b[43m(\u001b[49m\u001b[43margs\u001b[49m\u001b[43m)\u001b[49m\u001b[43m,\u001b[49m\n\u001b[32m    254\u001b[39m \u001b[43m        \u001b[49m\u001b[38;5;28;43mlen\u001b[39;49m\u001b[43m(\u001b[49m\u001b[38;5;28;43mself\u001b[39;49m\u001b[43m.\u001b[49m\u001b[43mfunction_type\u001b[49m\u001b[43m.\u001b[49m\u001b[43mflat_outputs\u001b[49m\u001b[43m)\u001b[49m\u001b[43m,\u001b[49m\n\u001b[32m    255\u001b[39m \u001b[43m    \u001b[49m\u001b[43m)\u001b[49m\n\u001b[32m    256\u001b[39m   \u001b[38;5;28;01melse\u001b[39;00m:\n\u001b[32m    257\u001b[39m     outputs = make_call_op_in_graph(\n\u001b[32m    258\u001b[39m         \u001b[38;5;28mself\u001b[39m,\n\u001b[32m    259\u001b[39m         \u001b[38;5;28mlist\u001b[39m(args),\n\u001b[32m    260\u001b[39m         \u001b[38;5;28mself\u001b[39m._bound_context.function_call_options.as_attrs(),\n\u001b[32m    261\u001b[39m     )\n",
      "\u001b[36mFile \u001b[39m\u001b[32m~/thesis_env/lib/python3.12/site-packages/tensorflow/python/eager/context.py:1688\u001b[39m, in \u001b[36mContext.call_function\u001b[39m\u001b[34m(self, name, tensor_inputs, num_outputs)\u001b[39m\n\u001b[32m   1686\u001b[39m cancellation_context = cancellation.context()\n\u001b[32m   1687\u001b[39m \u001b[38;5;28;01mif\u001b[39;00m cancellation_context \u001b[38;5;129;01mis\u001b[39;00m \u001b[38;5;28;01mNone\u001b[39;00m:\n\u001b[32m-> \u001b[39m\u001b[32m1688\u001b[39m   outputs = \u001b[43mexecute\u001b[49m\u001b[43m.\u001b[49m\u001b[43mexecute\u001b[49m\u001b[43m(\u001b[49m\n\u001b[32m   1689\u001b[39m \u001b[43m      \u001b[49m\u001b[43mname\u001b[49m\u001b[43m.\u001b[49m\u001b[43mdecode\u001b[49m\u001b[43m(\u001b[49m\u001b[33;43m\"\u001b[39;49m\u001b[33;43mutf-8\u001b[39;49m\u001b[33;43m\"\u001b[39;49m\u001b[43m)\u001b[49m\u001b[43m,\u001b[49m\n\u001b[32m   1690\u001b[39m \u001b[43m      \u001b[49m\u001b[43mnum_outputs\u001b[49m\u001b[43m=\u001b[49m\u001b[43mnum_outputs\u001b[49m\u001b[43m,\u001b[49m\n\u001b[32m   1691\u001b[39m \u001b[43m      \u001b[49m\u001b[43minputs\u001b[49m\u001b[43m=\u001b[49m\u001b[43mtensor_inputs\u001b[49m\u001b[43m,\u001b[49m\n\u001b[32m   1692\u001b[39m \u001b[43m      \u001b[49m\u001b[43mattrs\u001b[49m\u001b[43m=\u001b[49m\u001b[43mattrs\u001b[49m\u001b[43m,\u001b[49m\n\u001b[32m   1693\u001b[39m \u001b[43m      \u001b[49m\u001b[43mctx\u001b[49m\u001b[43m=\u001b[49m\u001b[38;5;28;43mself\u001b[39;49m\u001b[43m,\u001b[49m\n\u001b[32m   1694\u001b[39m \u001b[43m  \u001b[49m\u001b[43m)\u001b[49m\n\u001b[32m   1695\u001b[39m \u001b[38;5;28;01melse\u001b[39;00m:\n\u001b[32m   1696\u001b[39m   outputs = execute.execute_with_cancellation(\n\u001b[32m   1697\u001b[39m       name.decode(\u001b[33m\"\u001b[39m\u001b[33mutf-8\u001b[39m\u001b[33m\"\u001b[39m),\n\u001b[32m   1698\u001b[39m       num_outputs=num_outputs,\n\u001b[32m   (...)\u001b[39m\u001b[32m   1702\u001b[39m       cancellation_manager=cancellation_context,\n\u001b[32m   1703\u001b[39m   )\n",
      "\u001b[36mFile \u001b[39m\u001b[32m~/thesis_env/lib/python3.12/site-packages/tensorflow/python/eager/execute.py:53\u001b[39m, in \u001b[36mquick_execute\u001b[39m\u001b[34m(op_name, num_outputs, inputs, attrs, ctx, name)\u001b[39m\n\u001b[32m     51\u001b[39m \u001b[38;5;28;01mtry\u001b[39;00m:\n\u001b[32m     52\u001b[39m   ctx.ensure_initialized()\n\u001b[32m---> \u001b[39m\u001b[32m53\u001b[39m   tensors = \u001b[43mpywrap_tfe\u001b[49m\u001b[43m.\u001b[49m\u001b[43mTFE_Py_Execute\u001b[49m\u001b[43m(\u001b[49m\u001b[43mctx\u001b[49m\u001b[43m.\u001b[49m\u001b[43m_handle\u001b[49m\u001b[43m,\u001b[49m\u001b[43m \u001b[49m\u001b[43mdevice_name\u001b[49m\u001b[43m,\u001b[49m\u001b[43m \u001b[49m\u001b[43mop_name\u001b[49m\u001b[43m,\u001b[49m\n\u001b[32m     54\u001b[39m \u001b[43m                                      \u001b[49m\u001b[43minputs\u001b[49m\u001b[43m,\u001b[49m\u001b[43m \u001b[49m\u001b[43mattrs\u001b[49m\u001b[43m,\u001b[49m\u001b[43m \u001b[49m\u001b[43mnum_outputs\u001b[49m\u001b[43m)\u001b[49m\n\u001b[32m     55\u001b[39m \u001b[38;5;28;01mexcept\u001b[39;00m core._NotOkStatusException \u001b[38;5;28;01mas\u001b[39;00m e:\n\u001b[32m     56\u001b[39m   \u001b[38;5;28;01mif\u001b[39;00m name \u001b[38;5;129;01mis\u001b[39;00m \u001b[38;5;129;01mnot\u001b[39;00m \u001b[38;5;28;01mNone\u001b[39;00m:\n",
      "\u001b[31mKeyboardInterrupt\u001b[39m: "
     ]
    }
   ],
   "source": [
    "# RUN GRID SEARCH\n",
    "results, best_params, best_model = lstm_grid_search(\n",
    "    X_train, y_train_scaled, X_test, y_test, scaler_y, current_param_grid\n",
    ")"
   ]
  },
  {
   "cell_type": "code",
   "execution_count": null,
   "metadata": {},
   "outputs": [],
   "source": [
    "# Convert results to DataFrame with all metrics\n",
    "results_df = pd.DataFrame([\n",
    "    {**r['params'], **{k: v for k, v in r.items() \n",
    "                      if k not in ['params', 'Train_predictions', 'Val_predictions', 'Test_predictions', 'error']}}\n",
    "    for r in results if 'error' not in r\n",
    "])"
   ]
  },
  {
   "cell_type": "code",
   "execution_count": null,
   "id": "ead6b4ca",
   "metadata": {},
   "outputs": [],
   "source": []
  },
  {
   "cell_type": "code",
   "execution_count": null,
   "id": "8f258a4f",
   "metadata": {},
   "outputs": [],
   "source": []
  },
  {
   "cell_type": "code",
   "execution_count": null,
   "id": "b489ff97",
   "metadata": {},
   "outputs": [],
   "source": [
    "def create_results_summary(results_df):\n",
    "    \"\"\"Create summary tables and visualizations for thesis\"\"\"\n",
    "    \n",
    "    # 1. Top 10 models summary\n",
    "    top_models = results_df.nsmallest(10, 'Test_RMSE').copy()\n",
    "    top_models['Architecture'] = top_models['lstm_units'].astype(str)\n",
    "    top_models['Overfitting'] = top_models['Train_RMSE'] - top_models['Test_RMSE']\n",
    "    \n",
    "    summary_cols = ['Architecture', 'learning_rate', 'dropout_rate', \n",
    "                   'Train_RMSE', 'Val_RMSE', 'Test_RMSE', \n",
    "                   'Train_R2', 'Val_R2', 'Test_R2', \n",
    "                   'Train_MAE', 'Val_MAE', 'Test_MAE', \n",
    "                   'Train_MAPE', 'Val_MAPE', 'Test_MAPE', 'Overfitting']\n",
    "    \n",
    "    top_summary = top_models[summary_cols].round(6)\n",
    "    \n",
    "    # 2. Best model per architecture\n",
    "    arch_summary = results_df.groupby('lstm_units').apply(\n",
    "        lambda x: x.loc[x['Test_RMSE'].idxmin()]\n",
    "    )[summary_cols].round(6)\n",
    "    \n",
    "    # 3. Learning rate analysis\n",
    "    lr_summary = results_df.groupby('learning_rate').agg({\n",
    "        'Test_RMSE': ['mean', 'std', 'min'],\n",
    "        'Test_R2': ['mean', 'std', 'max'],\n",
    "        'Train_RMSE': ['mean', 'std', 'min'],\n",
    "        'Train_R2': ['mean', 'std', 'max'],\n",
    "        'Val_RMSE': ['mean', 'std', 'min'],\n",
    "        'Val_R2': ['mean', 'std', 'max']\n",
    "    }).round(6)\n",
    "    \n",
    "    return top_summary, arch_summary, lr_summary"
   ]
  },
  {
   "cell_type": "code",
   "execution_count": null,
   "id": "8445c569",
   "metadata": {},
   "outputs": [],
   "source": [
    "def evaluate_model(model, X_seq, y_actual, scaler_y, dataset_name=\"\"):\n",
    "    \"\"\"Evaluate model and return metrics for any dataset (train/test)\"\"\"\n",
    "    # Predict\n",
    "    y_pred_scaled = model.predict(X_seq, verbose=0)\n",
    "    y_pred = scaler_y.inverse_transform(y_pred_scaled.reshape(-1, 1)).flatten()\n",
    "    \n",
    "    # Calculate metrics using sklearn functions\n",
    "    mse = mean_squared_error(y_actual, y_pred)\n",
    "    rmse = np.sqrt(mse)\n",
    "    mae = mean_absolute_error(y_actual, y_pred)\n",
    "    r2 = r2_score(y_actual, y_pred)\n",
    "    mape = mean_absolute_percentage_error(y_actual, y_pred) * 100\n",
    "    \n",
    "    # Add prefix to metric names if dataset specified\n",
    "    prefix = f\"{dataset_name}_\" if dataset_name else \"\"\n",
    "    \n",
    "    return {\n",
    "        f'{prefix}MSE': mse,\n",
    "        f'{prefix}RMSE': rmse,\n",
    "        f'{prefix}MAE': mae,\n",
    "        f'{prefix}R2': r2,\n",
    "        f'{prefix}MAPE': mape,\n",
    "        f'{prefix}predictions': y_pred\n",
    "    }"
   ]
  },
  {
   "cell_type": "code",
   "execution_count": null,
   "id": "e8daf74f",
   "metadata": {},
   "outputs": [],
   "source": [
    "def create_results_summary(results_df):\n",
    "    \"\"\"Create summary tables and visualizations for thesis\"\"\"\n",
    "    \n",
    "    # 1. Top 10 models summary\n",
    "    top_models = results_df.nsmallest(10, 'Test_RMSE').copy()\n",
    "    top_models['Architecture'] = top_models['lstm_units'].astype(str)\n",
    "    top_models['Overfitting'] = top_models['Train_RMSE'] - top_models['Test_RMSE']\n",
    "    \n",
    "    summary_cols = ['Architecture', 'learning_rate', 'dropout_rate', \n",
    "                   'Train_RMSE', 'Test_RMSE', 'Train_R2', 'Test_R2', \n",
    "                   'Train_MAE', 'Test_MAE', 'Train_MAPE', 'Test_MAPE', 'Overfitting']\n",
    "    \n",
    "    top_summary = top_models[summary_cols].round(4)\n",
    "    \n",
    "    # 2. Best model per architecture\n",
    "    arch_summary = results_df.groupby('lstm_units').apply(\n",
    "        lambda x: x.loc[x['Test_RMSE'].idxmin()]\n",
    "    )[summary_cols].round(4)\n",
    "    \n",
    "    # 3. Learning rate analysis\n",
    "    lr_summary = results_df.groupby('learning_rate').agg({\n",
    "        'Test_RMSE': ['mean', 'std', 'min'],\n",
    "        'Test_R2': ['mean', 'std', 'max'],\n",
    "        'Train_RMSE': ['mean', 'std', 'min'],\n",
    "        'Train_R2': ['mean', 'std', 'max']\n",
    "    }).round(4)\n",
    "    \n",
    "    return top_summary, arch_summary, lr_summary"
   ]
  },
  {
   "cell_type": "code",
   "execution_count": null,
   "id": "656aa6c6",
   "metadata": {},
   "outputs": [],
   "source": [
    "def count_combinations(param_grid):\n",
    "    \"\"\"Count total parameter combinations\"\"\"\n",
    "    total = 1\n",
    "    for param, values in param_grid.items():\n",
    "        total *= len(values)\n",
    "    return total"
   ]
  },
  {
   "cell_type": "code",
   "execution_count": null,
   "id": "8e900c7e",
   "metadata": {},
   "outputs": [],
   "source": [
    "def lstm_grid_search(X_train, y_train_scaled, X_test, y_test, scaler_y, param_grid):\n",
    "    \"\"\"\n",
    "    Perform grid search for LSTM hyperparameters\n",
    "    \"\"\"\n",
    "    results = []\n",
    "    best_score = float('inf')\n",
    "    best_params = None\n",
    "    best_model = None\n",
    "    \n",
    "    # Generate all parameter combinations\n",
    "    param_combinations = list(product(*param_grid.values()))\n",
    "    param_names = list(param_grid.keys())\n",
    "    \n",
    "    total_combinations = len(param_combinations)\n",
    "    estimated_time = total_combinations * 5 / 60  # 5 minutes per combination\n",
    "    \n",
    "    print(f\"Starting Grid Search:\")\n",
    "    print(f\"- Total combinations: {total_combinations}\")\n",
    "    print(f\"- Estimated time: {estimated_time:.1f} hours\")\n",
    "    print(f\"{'='*80}\")\n",
    "    \n",
    "    for i, params in enumerate(param_combinations):\n",
    "        param_dict = dict(zip(param_names, params))\n",
    "        print(f\"\\nCombination {i+1}/{total_combinations}: {param_dict}\")\n",
    "        \n",
    "        try:\n",
    "            # Create sequences\n",
    "            X_seq, y_seq = create_sequences(X_train, y_train_scaled, param_dict['sequence_length'])\n",
    "            \n",
    "            # Split for validation (80% train, 20% validation)\n",
    "            val_size = int(len(X_seq) * 0.2)\n",
    "            X_train_fold = X_seq[:-val_size]\n",
    "            y_train_fold = y_seq[:-val_size]\n",
    "            X_val_fold = X_seq[-val_size:]\n",
    "            y_val_fold = y_seq[-val_size:]\n",
    "            \n",
    "            # Build model\n",
    "            model = build_lstm_model(\n",
    "                sequence_length=param_dict['sequence_length'],\n",
    "                n_features=X_seq.shape[2],\n",
    "                lstm_units=param_dict['lstm_units'],\n",
    "                dropout_rate=param_dict['dropout_rate'],\n",
    "                learning_rate=param_dict['learning_rate']\n",
    "            )\n",
    "            \n",
    "            # Callbacks\n",
    "            early_stopping = EarlyStopping(\n",
    "                monitor='val_loss', patience=15, restore_best_weights=True, verbose=0\n",
    "            )\n",
    "            reduce_lr = ReduceLROnPlateau(\n",
    "                monitor='val_loss', factor=0.5, patience=8, min_lr=0.00001, verbose=0\n",
    "            )\n",
    "            \n",
    "            # Train model\n",
    "            history = model.fit(\n",
    "                X_train_fold, y_train_fold,\n",
    "                epochs=param_dict['epochs'],\n",
    "                batch_size=param_dict['batch_size'],\n",
    "                validation_data=(X_val_fold, y_val_fold),\n",
    "                callbacks=[early_stopping, reduce_lr],\n",
    "                verbose=0\n",
    "            )\n",
    "            \n",
    "            # Evaluate on both training and test sets\n",
    "            # Training evaluation (use validation fold for fair comparison)\n",
    "            y_train_fold_actual = scaler_y.inverse_transform(y_train_fold.reshape(-1, 1)).flatten()\n",
    "            train_metrics = evaluate_model(model, X_train_fold, y_train_fold_actual, scaler_y, \"Train\")\n",
    "            \n",
    "            # Test evaluation\n",
    "            X_test_seq, _ = create_sequences(X_test, y_test.flatten(), param_dict['sequence_length'])\n",
    "            y_test_actual = y_test[param_dict['sequence_length']:]\n",
    "            test_metrics = evaluate_model(model, X_test_seq, y_test_actual, scaler_y, \"Test\")\n",
    "            \n",
    "            # Store comprehensive results\n",
    "            result = {\n",
    "                'params': param_dict.copy(),\n",
    "                'val_loss': min(history.history['val_loss']),\n",
    "                'epochs_trained': len(history.history['loss']),\n",
    "                **train_metrics,\n",
    "                **test_metrics\n",
    "            }\n",
    "            results.append(result)\n",
    "            \n",
    "            print(f\"Train RMSE: {train_metrics['Train_RMSE']:.4f}, R²: {train_metrics['Train_R2']:.4f}\")\n",
    "            print(f\"Test RMSE: {test_metrics['Test_RMSE']:.4f}, R²: {test_metrics['Test_R2']:.4f}\")\n",
    "            print(f\"Overfitting: {train_metrics['Train_RMSE'] - test_metrics['Test_RMSE']:.4f}\")\n",
    "            \n",
    "            # Update best model based on test RMSE\n",
    "            if test_metrics['Test_RMSE'] < best_score:\n",
    "                best_score = test_metrics['Test_RMSE']\n",
    "                best_params = param_dict.copy()\n",
    "                best_model = model\n",
    "                print(f\"NEW BEST MODEL! Test RMSE: {best_score:.4f}\")\n",
    "            \n",
    "        except Exception as e:\n",
    "            print(f\"Error: {str(e)}\")\n",
    "            result = {\n",
    "                'params': param_dict.copy(),\n",
    "                'error': str(e),\n",
    "                'RMSE': float('inf')\n",
    "            }\n",
    "            results.append(result)\n",
    "        \n",
    "        print(\"-\" * 80)\n",
    "    \n",
    "    return results, best_params, best_model"
   ]
  },
  {
   "cell_type": "code",
   "execution_count": null,
   "id": "886a35dc",
   "metadata": {},
   "outputs": [],
   "source": [
    "param_grid_5h = {\n",
    "    'sequence_length': [24],\n",
    "    'lstm_units': [\n",
    "        [64, 32, 16],\n",
    "        [128, 64, 32],\n",
    "        [256, 128, 64]\n",
    "    ], \n",
    "    'dropout_rate': [0.2, 0.3],\n",
    "    'learning_rate': [0.001, 0.005, 0.01],\n",
    "    'batch_size': [32],\n",
    "    'epochs': [100]\n",
    "}\n",
    "\n",
    "# Alternative: ULTRA-FAST Grid for initial exploration (6 combinations ≈ 30 minutes)\n",
    "param_grid_ultra_fast = {\n",
    "    'sequence_length': [24],\n",
    "    'lstm_units': [\n",
    "        [64, 32, 16],\n",
    "        [128, 64, 32]\n",
    "    ],\n",
    "    'dropout_rate': [0.2], \n",
    "    'learning_rate': [0.001, 0.005, 0.01],  \n",
    "    'batch_size': [32],\n",
    "    'epochs': [50]\n",
    "}"
   ]
  },
  {
   "cell_type": "code",
   "execution_count": null,
   "id": "5365c935",
   "metadata": {},
   "outputs": [],
   "source": [
    "current_param_grid = param_grid_ultra_fast\n",
    "\n",
    "print(\"Parameter Grid Selected:\")\n",
    "for param, values in current_param_grid.items():\n",
    "    print(f\"  {param}: {values}\")\n",
    "\n",
    "combinations = count_combinations(current_param_grid)\n",
    "estimated_hours = combinations * 5 / 60\n",
    "print(f\"\\nTotal combinations: {combinations}\")\n",
    "print(f\"Estimated time: {estimated_hours:.1f} hours\")\n",
    "\n",
    "# ================================\n",
    "# RUN GRID SEARCH\n",
    "# ================================\n",
    "\n",
    "print(f\"\\n{'='*60}\\nSTARTING GRID SEARCH\\n{'='*60}\")\n",
    "\n",
    "results, best_params, best_model = lstm_grid_search(\n",
    "    X_train, y_train_scaled, X_test, y_test, scaler_y, current_param_grid\n",
    ")"
   ]
  },
  {
   "cell_type": "code",
   "execution_count": null,
   "id": "3a0bb3fa",
   "metadata": {},
   "outputs": [],
   "source": [
    "results_df = pd.DataFrame([\n",
    "    {**r['params'], **{k: v for k, v in r.items() \n",
    "                      if k not in ['params', 'Train_predictions', 'Test_predictions', 'error']}}\n",
    "    for r in results if 'error' not in r\n",
    "])"
   ]
  },
  {
   "cell_type": "code",
   "execution_count": null,
   "id": "6df65787",
   "metadata": {},
   "outputs": [],
   "source": [
    "if len(results_df) > 0:\n",
    "    # Generate summary tables for thesis\n",
    "    top_summary, arch_summary, lr_summary = create_results_summary(results_df)\n",
    "    \n",
    "    print(\"TOP 10 MODELS (for main thesis table):\")\n",
    "    print(top_summary.to_string(index=False))\n",
    "    \n",
    "    print(f\"\\n🏗️ BEST MODEL PER ARCHITECTURE:\")\n",
    "    print(arch_summary.to_string())\n",
    "    \n",
    "    print(f\"\\n📈 LEARNING RATE ANALYSIS:\")\n",
    "    print(lr_summary.to_string())\n",
    "    \n",
    "    # Basic statistics\n",
    "    print(f\"\\n📋 SUMMARY STATISTICS:\")\n",
    "    print(f\"Best Test RMSE: {results_df['Test_RMSE'].min():.4f}\")\n",
    "    print(f\"Best Test R²: {results_df['Test_R2'].max():.4f}\")\n",
    "    print(f\"Average Overfitting: {(results_df['Train_RMSE'] - results_df['Test_RMSE']).mean():.4f}\")\n",
    "    \n",
    "    # Save complete results to CSV for appendix\n",
    "    results_df.to_csv('lstm_grid_search_complete_results.csv', index=False)\n",
    "    print(f\"\\nComplete results saved to 'lstm_grid_search_complete_results.csv'\")\n",
    "    \n",
    "    # Save summary tables for main thesis\n",
    "    top_summary.to_csv('lstm_top_models_summary.csv', index=False)\n",
    "    arch_summary.to_csv('lstm_architecture_comparison.csv')\n",
    "    # print(f\"\\n Summary tables saved for thesis:\")\n",
    "    # print(\" lstm_top_models_summary.csv (for main results section)\")\n",
    "    # print(\" lstm_architecture_comparison.csv (for architecture analysis)\")\n",
    "\n",
    "print(f\"\\nBest Parameters: {best_params}\")\n",
    "print(f\"Best Test RMSE: {best_score:.4f}\")"
   ]
  },
  {
   "cell_type": "code",
   "execution_count": null,
   "id": "62b828c1",
   "metadata": {},
   "outputs": [],
   "source": [
    "def count_combinations(grid):\n",
    "    total = 1\n",
    "    for param, values in grid.items():\n",
    "        total *= len(values)\n",
    "    return total"
   ]
  },
  {
   "cell_type": "code",
   "execution_count": null,
   "id": "180ac476",
   "metadata": {},
   "outputs": [],
   "source": [
    "combinations_5h = count_combinations(param_grid_5h)\n",
    "combinations_ultra = count_combinations(param_grid_ultra_fast)\n",
    "\n",
    "print(\"REVISED PARAMETER GRIDS:\")\n",
    "print(f\"5-Hour Grid: {combinations_5h} combinations (~{combinations_5h * 5 / 60:.1f} hours)\")\n",
    "print(f\"Ultra-Fast Grid: {combinations_ultra} combinations (~{combinations_ultra * 5 / 60:.1f} hours)\")"
   ]
  },
  {
   "cell_type": "code",
   "execution_count": 15,
   "id": "aQJoBtH6IBTh",
   "metadata": {
    "colab": {
     "base_uri": "https://localhost:8080/"
    },
    "executionInfo": {
     "elapsed": 276,
     "status": "ok",
     "timestamp": 1749866163038,
     "user": {
      "displayName": "elvano",
      "userId": "10794472318038798566"
     },
     "user_tz": -420
    },
    "id": "aQJoBtH6IBTh",
    "outputId": "9a2fbfbd-e325-4a59-836b-c8c556255194"
   },
   "outputs": [
    {
     "name": "stdout",
     "output_type": "stream",
     "text": [
      "Sequence features shape: (29616, 24, 6)\n",
      "Sequence target shape: (29616,)\n"
     ]
    }
   ],
   "source": [
    "# Create sequences\n",
    "SEQUENCE_LENGTH = 24\n",
    "\n",
    "X_seq, y_seq = create_sequences(X_train, y_train_scaled, SEQUENCE_LENGTH)\n",
    "print(f\"Sequence features shape: {X_seq.shape}\")\n",
    "print(f\"Sequence target shape: {y_seq.shape}\")"
   ]
  },
  {
   "cell_type": "code",
   "execution_count": 9,
   "id": "SS6fJnxmIEbZ",
   "metadata": {
    "executionInfo": {
     "elapsed": 318,
     "status": "ok",
     "timestamp": 1749866167914,
     "user": {
      "displayName": "elvano",
      "userId": "10794472318038798566"
     },
     "user_tz": -420
    },
    "id": "SS6fJnxmIEbZ"
   },
   "outputs": [],
   "source": [
    "# Build LSTM Model\n",
    "model = Sequential([\n",
    "    LSTM(128, return_sequences=True, input_shape=(SEQUENCE_LENGTH, X_seq.shape[2])),\n",
    "    Dropout(0.2),\n",
    "\n",
    "    LSTM(64, return_sequences=True),\n",
    "    Dropout(0.2),\n",
    "\n",
    "    LSTM(32, return_sequences=False),\n",
    "    Dropout(0.2),\n",
    "\n",
    "    Dense(16, activation='relu'),\n",
    "    Dense(1)\n",
    "])"
   ]
  },
  {
   "cell_type": "code",
   "execution_count": 10,
   "id": "Yh4ESurmIK1C",
   "metadata": {
    "colab": {
     "base_uri": "https://localhost:8080/",
     "height": 391
    },
    "executionInfo": {
     "elapsed": 201,
     "status": "ok",
     "timestamp": 1749866169031,
     "user": {
      "displayName": "elvano",
      "userId": "10794472318038798566"
     },
     "user_tz": -420
    },
    "id": "Yh4ESurmIK1C",
    "outputId": "725ebf88-6146-405d-d582-d094bd5d5351"
   },
   "outputs": [
    {
     "data": {
      "text/html": [
       "<pre style=\"white-space:pre;overflow-x:auto;line-height:normal;font-family:Menlo,'DejaVu Sans Mono',consolas,'Courier New',monospace\"><span style=\"font-weight: bold\">Model: \"sequential\"</span>\n",
       "</pre>\n"
      ],
      "text/plain": [
       "\u001b[1mModel: \"sequential\"\u001b[0m\n"
      ]
     },
     "metadata": {},
     "output_type": "display_data"
    },
    {
     "data": {
      "text/html": [
       "<pre style=\"white-space:pre;overflow-x:auto;line-height:normal;font-family:Menlo,'DejaVu Sans Mono',consolas,'Courier New',monospace\">┏━━━━━━━━━━━━━━━━━━━━━━━━━━━━━━━━━┳━━━━━━━━━━━━━━━━━━━━━━━━┳━━━━━━━━━━━━━━━┓\n",
       "┃<span style=\"font-weight: bold\"> Layer (type)                    </span>┃<span style=\"font-weight: bold\"> Output Shape           </span>┃<span style=\"font-weight: bold\">       Param # </span>┃\n",
       "┡━━━━━━━━━━━━━━━━━━━━━━━━━━━━━━━━━╇━━━━━━━━━━━━━━━━━━━━━━━━╇━━━━━━━━━━━━━━━┩\n",
       "│ lstm (<span style=\"color: #0087ff; text-decoration-color: #0087ff\">LSTM</span>)                     │ (<span style=\"color: #00d7ff; text-decoration-color: #00d7ff\">None</span>, <span style=\"color: #00af00; text-decoration-color: #00af00\">24</span>, <span style=\"color: #00af00; text-decoration-color: #00af00\">128</span>)        │        <span style=\"color: #00af00; text-decoration-color: #00af00\">70,144</span> │\n",
       "├─────────────────────────────────┼────────────────────────┼───────────────┤\n",
       "│ dropout (<span style=\"color: #0087ff; text-decoration-color: #0087ff\">Dropout</span>)               │ (<span style=\"color: #00d7ff; text-decoration-color: #00d7ff\">None</span>, <span style=\"color: #00af00; text-decoration-color: #00af00\">24</span>, <span style=\"color: #00af00; text-decoration-color: #00af00\">128</span>)        │             <span style=\"color: #00af00; text-decoration-color: #00af00\">0</span> │\n",
       "├─────────────────────────────────┼────────────────────────┼───────────────┤\n",
       "│ lstm_1 (<span style=\"color: #0087ff; text-decoration-color: #0087ff\">LSTM</span>)                   │ (<span style=\"color: #00d7ff; text-decoration-color: #00d7ff\">None</span>, <span style=\"color: #00af00; text-decoration-color: #00af00\">24</span>, <span style=\"color: #00af00; text-decoration-color: #00af00\">64</span>)         │        <span style=\"color: #00af00; text-decoration-color: #00af00\">49,408</span> │\n",
       "├─────────────────────────────────┼────────────────────────┼───────────────┤\n",
       "│ dropout_1 (<span style=\"color: #0087ff; text-decoration-color: #0087ff\">Dropout</span>)             │ (<span style=\"color: #00d7ff; text-decoration-color: #00d7ff\">None</span>, <span style=\"color: #00af00; text-decoration-color: #00af00\">24</span>, <span style=\"color: #00af00; text-decoration-color: #00af00\">64</span>)         │             <span style=\"color: #00af00; text-decoration-color: #00af00\">0</span> │\n",
       "├─────────────────────────────────┼────────────────────────┼───────────────┤\n",
       "│ lstm_2 (<span style=\"color: #0087ff; text-decoration-color: #0087ff\">LSTM</span>)                   │ (<span style=\"color: #00d7ff; text-decoration-color: #00d7ff\">None</span>, <span style=\"color: #00af00; text-decoration-color: #00af00\">32</span>)             │        <span style=\"color: #00af00; text-decoration-color: #00af00\">12,416</span> │\n",
       "├─────────────────────────────────┼────────────────────────┼───────────────┤\n",
       "│ dropout_2 (<span style=\"color: #0087ff; text-decoration-color: #0087ff\">Dropout</span>)             │ (<span style=\"color: #00d7ff; text-decoration-color: #00d7ff\">None</span>, <span style=\"color: #00af00; text-decoration-color: #00af00\">32</span>)             │             <span style=\"color: #00af00; text-decoration-color: #00af00\">0</span> │\n",
       "├─────────────────────────────────┼────────────────────────┼───────────────┤\n",
       "│ dense (<span style=\"color: #0087ff; text-decoration-color: #0087ff\">Dense</span>)                   │ (<span style=\"color: #00d7ff; text-decoration-color: #00d7ff\">None</span>, <span style=\"color: #00af00; text-decoration-color: #00af00\">16</span>)             │           <span style=\"color: #00af00; text-decoration-color: #00af00\">528</span> │\n",
       "├─────────────────────────────────┼────────────────────────┼───────────────┤\n",
       "│ dense_1 (<span style=\"color: #0087ff; text-decoration-color: #0087ff\">Dense</span>)                 │ (<span style=\"color: #00d7ff; text-decoration-color: #00d7ff\">None</span>, <span style=\"color: #00af00; text-decoration-color: #00af00\">1</span>)              │            <span style=\"color: #00af00; text-decoration-color: #00af00\">17</span> │\n",
       "└─────────────────────────────────┴────────────────────────┴───────────────┘\n",
       "</pre>\n"
      ],
      "text/plain": [
       "┏━━━━━━━━━━━━━━━━━━━━━━━━━━━━━━━━━┳━━━━━━━━━━━━━━━━━━━━━━━━┳━━━━━━━━━━━━━━━┓\n",
       "┃\u001b[1m \u001b[0m\u001b[1mLayer (type)                   \u001b[0m\u001b[1m \u001b[0m┃\u001b[1m \u001b[0m\u001b[1mOutput Shape          \u001b[0m\u001b[1m \u001b[0m┃\u001b[1m \u001b[0m\u001b[1m      Param #\u001b[0m\u001b[1m \u001b[0m┃\n",
       "┡━━━━━━━━━━━━━━━━━━━━━━━━━━━━━━━━━╇━━━━━━━━━━━━━━━━━━━━━━━━╇━━━━━━━━━━━━━━━┩\n",
       "│ lstm (\u001b[38;5;33mLSTM\u001b[0m)                     │ (\u001b[38;5;45mNone\u001b[0m, \u001b[38;5;34m24\u001b[0m, \u001b[38;5;34m128\u001b[0m)        │        \u001b[38;5;34m70,144\u001b[0m │\n",
       "├─────────────────────────────────┼────────────────────────┼───────────────┤\n",
       "│ dropout (\u001b[38;5;33mDropout\u001b[0m)               │ (\u001b[38;5;45mNone\u001b[0m, \u001b[38;5;34m24\u001b[0m, \u001b[38;5;34m128\u001b[0m)        │             \u001b[38;5;34m0\u001b[0m │\n",
       "├─────────────────────────────────┼────────────────────────┼───────────────┤\n",
       "│ lstm_1 (\u001b[38;5;33mLSTM\u001b[0m)                   │ (\u001b[38;5;45mNone\u001b[0m, \u001b[38;5;34m24\u001b[0m, \u001b[38;5;34m64\u001b[0m)         │        \u001b[38;5;34m49,408\u001b[0m │\n",
       "├─────────────────────────────────┼────────────────────────┼───────────────┤\n",
       "│ dropout_1 (\u001b[38;5;33mDropout\u001b[0m)             │ (\u001b[38;5;45mNone\u001b[0m, \u001b[38;5;34m24\u001b[0m, \u001b[38;5;34m64\u001b[0m)         │             \u001b[38;5;34m0\u001b[0m │\n",
       "├─────────────────────────────────┼────────────────────────┼───────────────┤\n",
       "│ lstm_2 (\u001b[38;5;33mLSTM\u001b[0m)                   │ (\u001b[38;5;45mNone\u001b[0m, \u001b[38;5;34m32\u001b[0m)             │        \u001b[38;5;34m12,416\u001b[0m │\n",
       "├─────────────────────────────────┼────────────────────────┼───────────────┤\n",
       "│ dropout_2 (\u001b[38;5;33mDropout\u001b[0m)             │ (\u001b[38;5;45mNone\u001b[0m, \u001b[38;5;34m32\u001b[0m)             │             \u001b[38;5;34m0\u001b[0m │\n",
       "├─────────────────────────────────┼────────────────────────┼───────────────┤\n",
       "│ dense (\u001b[38;5;33mDense\u001b[0m)                   │ (\u001b[38;5;45mNone\u001b[0m, \u001b[38;5;34m16\u001b[0m)             │           \u001b[38;5;34m528\u001b[0m │\n",
       "├─────────────────────────────────┼────────────────────────┼───────────────┤\n",
       "│ dense_1 (\u001b[38;5;33mDense\u001b[0m)                 │ (\u001b[38;5;45mNone\u001b[0m, \u001b[38;5;34m1\u001b[0m)              │            \u001b[38;5;34m17\u001b[0m │\n",
       "└─────────────────────────────────┴────────────────────────┴───────────────┘\n"
      ]
     },
     "metadata": {},
     "output_type": "display_data"
    },
    {
     "data": {
      "text/html": [
       "<pre style=\"white-space:pre;overflow-x:auto;line-height:normal;font-family:Menlo,'DejaVu Sans Mono',consolas,'Courier New',monospace\"><span style=\"font-weight: bold\"> Total params: </span><span style=\"color: #00af00; text-decoration-color: #00af00\">132,513</span> (517.63 KB)\n",
       "</pre>\n"
      ],
      "text/plain": [
       "\u001b[1m Total params: \u001b[0m\u001b[38;5;34m132,513\u001b[0m (517.63 KB)\n"
      ]
     },
     "metadata": {},
     "output_type": "display_data"
    },
    {
     "data": {
      "text/html": [
       "<pre style=\"white-space:pre;overflow-x:auto;line-height:normal;font-family:Menlo,'DejaVu Sans Mono',consolas,'Courier New',monospace\"><span style=\"font-weight: bold\"> Trainable params: </span><span style=\"color: #00af00; text-decoration-color: #00af00\">132,513</span> (517.63 KB)\n",
       "</pre>\n"
      ],
      "text/plain": [
       "\u001b[1m Trainable params: \u001b[0m\u001b[38;5;34m132,513\u001b[0m (517.63 KB)\n"
      ]
     },
     "metadata": {},
     "output_type": "display_data"
    },
    {
     "data": {
      "text/html": [
       "<pre style=\"white-space:pre;overflow-x:auto;line-height:normal;font-family:Menlo,'DejaVu Sans Mono',consolas,'Courier New',monospace\"><span style=\"font-weight: bold\"> Non-trainable params: </span><span style=\"color: #00af00; text-decoration-color: #00af00\">0</span> (0.00 B)\n",
       "</pre>\n"
      ],
      "text/plain": [
       "\u001b[1m Non-trainable params: \u001b[0m\u001b[38;5;34m0\u001b[0m (0.00 B)\n"
      ]
     },
     "metadata": {},
     "output_type": "display_data"
    }
   ],
   "source": [
    "# Compile model\n",
    "model.compile(\n",
    "    optimizer=Adam(learning_rate=0.001),\n",
    "    loss='mse',\n",
    "    metrics=['mae']\n",
    ")\n",
    "\n",
    "# Print model summary\n",
    "model.summary()"
   ]
  },
  {
   "cell_type": "code",
   "execution_count": 11,
   "id": "A3tyXCPxINp0",
   "metadata": {
    "executionInfo": {
     "elapsed": 3,
     "status": "ok",
     "timestamp": 1749866172266,
     "user": {
      "displayName": "elvano",
      "userId": "10794472318038798566"
     },
     "user_tz": -420
    },
    "id": "A3tyXCPxINp0"
   },
   "outputs": [],
   "source": [
    "# Set up callbacks\n",
    "early_stopping = EarlyStopping(\n",
    "    monitor='val_loss',\n",
    "    patience=10,\n",
    "    restore_best_weights=True,\n",
    "    verbose=1\n",
    ")\n",
    "\n",
    "reduce_lr = ReduceLROnPlateau(\n",
    "    monitor='val_loss',\n",
    "    factor=0.5,\n",
    "    patience=5,\n",
    "    min_lr=0.00001,\n",
    "    verbose=1\n",
    ")"
   ]
  },
  {
   "cell_type": "code",
   "execution_count": 13,
   "id": "MA5dGznbIUCl",
   "metadata": {
    "colab": {
     "base_uri": "https://localhost:8080/",
     "height": 356
    },
    "executionInfo": {
     "elapsed": 80,
     "status": "error",
     "timestamp": 1749866227525,
     "user": {
      "displayName": "elvano",
      "userId": "10794472318038798566"
     },
     "user_tz": -420
    },
    "id": "MA5dGznbIUCl",
    "outputId": "0f4615de-7399-41d4-a174-382b9acf208c"
   },
   "outputs": [
    {
     "ename": "ValueError",
     "evalue": "Invalid dtype: object",
     "output_type": "error",
     "traceback": [
      "\u001b[0;31m---------------------------------------------------------------------------\u001b[0m",
      "\u001b[0;31mValueError\u001b[0m                                Traceback (most recent call last)",
      "\u001b[0;32m<ipython-input-13-627891655>\u001b[0m in \u001b[0;36m<cell line: 0>\u001b[0;34m()\u001b[0m\n\u001b[1;32m      1\u001b[0m \u001b[0;31m# Train the model\u001b[0m\u001b[0;34m\u001b[0m\u001b[0;34m\u001b[0m\u001b[0m\n\u001b[0;32m----> 2\u001b[0;31m history = model.fit(\n\u001b[0m\u001b[1;32m      3\u001b[0m     \u001b[0mX_seq\u001b[0m\u001b[0;34m,\u001b[0m \u001b[0my_seq\u001b[0m\u001b[0;34m,\u001b[0m\u001b[0;34m\u001b[0m\u001b[0;34m\u001b[0m\u001b[0m\n\u001b[1;32m      4\u001b[0m     \u001b[0mepochs\u001b[0m\u001b[0;34m=\u001b[0m\u001b[0;36m100\u001b[0m\u001b[0;34m,\u001b[0m\u001b[0;34m\u001b[0m\u001b[0;34m\u001b[0m\u001b[0m\n\u001b[1;32m      5\u001b[0m     \u001b[0mbatch_size\u001b[0m\u001b[0;34m=\u001b[0m\u001b[0;36m32\u001b[0m\u001b[0;34m,\u001b[0m\u001b[0;34m\u001b[0m\u001b[0;34m\u001b[0m\u001b[0m\n",
      "\u001b[0;32m/usr/local/lib/python3.11/dist-packages/keras/src/utils/traceback_utils.py\u001b[0m in \u001b[0;36merror_handler\u001b[0;34m(*args, **kwargs)\u001b[0m\n\u001b[1;32m    120\u001b[0m             \u001b[0;31m# To get the full stack trace, call:\u001b[0m\u001b[0;34m\u001b[0m\u001b[0;34m\u001b[0m\u001b[0m\n\u001b[1;32m    121\u001b[0m             \u001b[0;31m# `keras.config.disable_traceback_filtering()`\u001b[0m\u001b[0;34m\u001b[0m\u001b[0;34m\u001b[0m\u001b[0m\n\u001b[0;32m--> 122\u001b[0;31m             \u001b[0;32mraise\u001b[0m \u001b[0me\u001b[0m\u001b[0;34m.\u001b[0m\u001b[0mwith_traceback\u001b[0m\u001b[0;34m(\u001b[0m\u001b[0mfiltered_tb\u001b[0m\u001b[0;34m)\u001b[0m \u001b[0;32mfrom\u001b[0m \u001b[0;32mNone\u001b[0m\u001b[0;34m\u001b[0m\u001b[0;34m\u001b[0m\u001b[0m\n\u001b[0m\u001b[1;32m    123\u001b[0m         \u001b[0;32mfinally\u001b[0m\u001b[0;34m:\u001b[0m\u001b[0;34m\u001b[0m\u001b[0;34m\u001b[0m\u001b[0m\n\u001b[1;32m    124\u001b[0m             \u001b[0;32mdel\u001b[0m \u001b[0mfiltered_tb\u001b[0m\u001b[0;34m\u001b[0m\u001b[0;34m\u001b[0m\u001b[0m\n",
      "\u001b[0;32m/usr/local/lib/python3.11/dist-packages/optree/ops.py\u001b[0m in \u001b[0;36mtree_map\u001b[0;34m(func, tree, is_leaf, none_is_leaf, namespace, *rests)\u001b[0m\n\u001b[1;32m    764\u001b[0m     \u001b[0mleaves\u001b[0m\u001b[0;34m,\u001b[0m \u001b[0mtreespec\u001b[0m \u001b[0;34m=\u001b[0m \u001b[0m_C\u001b[0m\u001b[0;34m.\u001b[0m\u001b[0mflatten\u001b[0m\u001b[0;34m(\u001b[0m\u001b[0mtree\u001b[0m\u001b[0;34m,\u001b[0m \u001b[0mis_leaf\u001b[0m\u001b[0;34m,\u001b[0m \u001b[0mnone_is_leaf\u001b[0m\u001b[0;34m,\u001b[0m \u001b[0mnamespace\u001b[0m\u001b[0;34m)\u001b[0m\u001b[0;34m\u001b[0m\u001b[0;34m\u001b[0m\u001b[0m\n\u001b[1;32m    765\u001b[0m     \u001b[0mflat_args\u001b[0m \u001b[0;34m=\u001b[0m \u001b[0;34m[\u001b[0m\u001b[0mleaves\u001b[0m\u001b[0;34m]\u001b[0m \u001b[0;34m+\u001b[0m \u001b[0;34m[\u001b[0m\u001b[0mtreespec\u001b[0m\u001b[0;34m.\u001b[0m\u001b[0mflatten_up_to\u001b[0m\u001b[0;34m(\u001b[0m\u001b[0mr\u001b[0m\u001b[0;34m)\u001b[0m \u001b[0;32mfor\u001b[0m \u001b[0mr\u001b[0m \u001b[0;32min\u001b[0m \u001b[0mrests\u001b[0m\u001b[0;34m]\u001b[0m\u001b[0;34m\u001b[0m\u001b[0;34m\u001b[0m\u001b[0m\n\u001b[0;32m--> 766\u001b[0;31m     \u001b[0;32mreturn\u001b[0m \u001b[0mtreespec\u001b[0m\u001b[0;34m.\u001b[0m\u001b[0munflatten\u001b[0m\u001b[0;34m(\u001b[0m\u001b[0mmap\u001b[0m\u001b[0;34m(\u001b[0m\u001b[0mfunc\u001b[0m\u001b[0;34m,\u001b[0m \u001b[0;34m*\u001b[0m\u001b[0mflat_args\u001b[0m\u001b[0;34m)\u001b[0m\u001b[0;34m)\u001b[0m\u001b[0;34m\u001b[0m\u001b[0;34m\u001b[0m\u001b[0m\n\u001b[0m\u001b[1;32m    767\u001b[0m \u001b[0;34m\u001b[0m\u001b[0m\n\u001b[1;32m    768\u001b[0m \u001b[0;34m\u001b[0m\u001b[0m\n",
      "\u001b[0;31mValueError\u001b[0m: Invalid dtype: object"
     ]
    }
   ],
   "source": [
    "# Train the model\n",
    "history = model.fit(\n",
    "    X_seq, y_seq,\n",
    "    epochs=100,\n",
    "    batch_size=32,\n",
    "    validation_split=0.2,\n",
    "    callbacks=[early_stopping, reduce_lr],\n",
    "    verbose=1\n",
    ")"
   ]
  }
 ],
 "metadata": {
  "colab": {
   "provenance": []
  },
  "kernelspec": {
   "display_name": "thesis_env",
   "language": "python",
   "name": "python3"
  },
  "language_info": {
   "codemirror_mode": {
    "name": "ipython",
    "version": 3
   },
   "file_extension": ".py",
   "mimetype": "text/x-python",
   "name": "python",
   "nbconvert_exporter": "python",
   "pygments_lexer": "ipython3",
   "version": "3.12.3"
  }
 },
 "nbformat": 4,
 "nbformat_minor": 5
}
